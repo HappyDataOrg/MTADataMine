{
 "cells": [
  {
   "cell_type": "code",
   "execution_count": 9,
   "metadata": {
    "collapsed": true
   },
   "outputs": [],
   "source": [
    "import pandas as pd\n",
    "import numpy as np"
   ]
  },
  {
   "cell_type": "code",
   "execution_count": 8,
   "metadata": {
    "collapsed": false
   },
   "outputs": [],
   "source": [
    "import matplotlib.pyplot as plt\n",
    "pd.set_option('max_columns', 50)\n",
    "%matplotlib inline\n"
   ]
  },
  {
   "cell_type": "code",
   "execution_count": 10,
   "metadata": {
    "collapsed": false
   },
   "outputs": [
    {
     "data": {
      "text/plain": [
       "0                7\n",
       "1       Heisenberg\n",
       "2             3.14\n",
       "3      -1789710578\n",
       "4    Happy Eating!\n",
       "dtype: object"
      ]
     },
     "execution_count": 10,
     "metadata": {},
     "output_type": "execute_result"
    }
   ],
   "source": [
    "# create a Series with an arbitrary list\n",
    "s = pd.Series([7, 'Heisenberg', 3.14, -1789710578, 'Happy Eating!'])\n",
    "s"
   ]
  },
  {
   "cell_type": "code",
   "execution_count": 11,
   "metadata": {
    "collapsed": false
   },
   "outputs": [
    {
     "data": {
      "text/html": [
       "<div>\n",
       "<table border=\"1\" class=\"dataframe\">\n",
       "  <thead>\n",
       "    <tr style=\"text-align: right;\">\n",
       "      <th></th>\n",
       "      <th>route_short_name</th>\n",
       "      <th>route_long_name</th>\n",
       "      <th>route_type</th>\n",
       "      <th>route_color</th>\n",
       "      <th>route_text_color</th>\n",
       "    </tr>\n",
       "    <tr>\n",
       "      <th>route_id</th>\n",
       "      <th></th>\n",
       "      <th></th>\n",
       "      <th></th>\n",
       "      <th></th>\n",
       "      <th></th>\n",
       "    </tr>\n",
       "  </thead>\n",
       "  <tbody>\n",
       "    <tr>\n",
       "      <th>1</th>\n",
       "      <td>NaN</td>\n",
       "      <td>Babylon</td>\n",
       "      <td>2</td>\n",
       "      <td>00985F</td>\n",
       "      <td>FFFFFF</td>\n",
       "    </tr>\n",
       "    <tr>\n",
       "      <th>2</th>\n",
       "      <td>NaN</td>\n",
       "      <td>Hempstead</td>\n",
       "      <td>2</td>\n",
       "      <td>CE8E00</td>\n",
       "      <td>FFFFFF</td>\n",
       "    </tr>\n",
       "    <tr>\n",
       "      <th>3</th>\n",
       "      <td>NaN</td>\n",
       "      <td>Oyster Bay</td>\n",
       "      <td>2</td>\n",
       "      <td>00AF3F</td>\n",
       "      <td>FFFFFF</td>\n",
       "    </tr>\n",
       "    <tr>\n",
       "      <th>4</th>\n",
       "      <td>NaN</td>\n",
       "      <td>Ronkonkoma</td>\n",
       "      <td>2</td>\n",
       "      <td>A626AA</td>\n",
       "      <td>FFFFFF</td>\n",
       "    </tr>\n",
       "    <tr>\n",
       "      <th>5</th>\n",
       "      <td>NaN</td>\n",
       "      <td>Montauk</td>\n",
       "      <td>2</td>\n",
       "      <td>006983</td>\n",
       "      <td>FFFFFF</td>\n",
       "    </tr>\n",
       "    <tr>\n",
       "      <th>6</th>\n",
       "      <td>NaN</td>\n",
       "      <td>Long Beach</td>\n",
       "      <td>2</td>\n",
       "      <td>FF6319</td>\n",
       "      <td>FFFFFF</td>\n",
       "    </tr>\n",
       "    <tr>\n",
       "      <th>7</th>\n",
       "      <td>NaN</td>\n",
       "      <td>Far Rockaway</td>\n",
       "      <td>2</td>\n",
       "      <td>6E3219</td>\n",
       "      <td>FFFFFF</td>\n",
       "    </tr>\n",
       "    <tr>\n",
       "      <th>8</th>\n",
       "      <td>NaN</td>\n",
       "      <td>West Hempstead</td>\n",
       "      <td>2</td>\n",
       "      <td>00A1DE</td>\n",
       "      <td>FFFFFF</td>\n",
       "    </tr>\n",
       "    <tr>\n",
       "      <th>9</th>\n",
       "      <td>NaN</td>\n",
       "      <td>Port Washington</td>\n",
       "      <td>2</td>\n",
       "      <td>C60C30</td>\n",
       "      <td>FFFFFF</td>\n",
       "    </tr>\n",
       "    <tr>\n",
       "      <th>10</th>\n",
       "      <td>NaN</td>\n",
       "      <td>Port Jefferson</td>\n",
       "      <td>2</td>\n",
       "      <td>0039A6</td>\n",
       "      <td>FFFFFF</td>\n",
       "    </tr>\n",
       "    <tr>\n",
       "      <th>11</th>\n",
       "      <td>NaN</td>\n",
       "      <td>Belmont</td>\n",
       "      <td>2</td>\n",
       "      <td>FFFFFF</td>\n",
       "      <td>000000</td>\n",
       "    </tr>\n",
       "    <tr>\n",
       "      <th>12</th>\n",
       "      <td>NaN</td>\n",
       "      <td>City Zone</td>\n",
       "      <td>2</td>\n",
       "      <td>4D5357</td>\n",
       "      <td>FFFFFF</td>\n",
       "    </tr>\n",
       "  </tbody>\n",
       "</table>\n",
       "</div>"
      ],
      "text/plain": [
       "          route_short_name  route_long_name  route_type route_color  \\\n",
       "route_id                                                              \n",
       "1                      NaN          Babylon           2      00985F   \n",
       "2                      NaN        Hempstead           2      CE8E00   \n",
       "3                      NaN       Oyster Bay           2      00AF3F   \n",
       "4                      NaN       Ronkonkoma           2      A626AA   \n",
       "5                      NaN          Montauk           2      006983   \n",
       "6                      NaN       Long Beach           2      FF6319   \n",
       "7                      NaN     Far Rockaway           2      6E3219   \n",
       "8                      NaN   West Hempstead           2      00A1DE   \n",
       "9                      NaN  Port Washington           2      C60C30   \n",
       "10                     NaN   Port Jefferson           2      0039A6   \n",
       "11                     NaN          Belmont           2      FFFFFF   \n",
       "12                     NaN        City Zone           2      4D5357   \n",
       "\n",
       "         route_text_color  \n",
       "route_id                   \n",
       "1                  FFFFFF  \n",
       "2                  FFFFFF  \n",
       "3                  FFFFFF  \n",
       "4                  FFFFFF  \n",
       "5                  FFFFFF  \n",
       "6                  FFFFFF  \n",
       "7                  FFFFFF  \n",
       "8                  FFFFFF  \n",
       "9                  FFFFFF  \n",
       "10                 FFFFFF  \n",
       "11                 000000  \n",
       "12                 FFFFFF  "
      ]
     },
     "execution_count": 11,
     "metadata": {},
     "output_type": "execute_result"
    }
   ],
   "source": [
    "routes = pd.read_csv('Long Island Rail Road/routes.txt').set_index('route_id')\n",
    "routes"
   ]
  },
  {
   "cell_type": "code",
   "execution_count": 55,
   "metadata": {
    "collapsed": false
   },
   "outputs": [
    {
     "name": "stdout",
     "output_type": "stream",
     "text": [
      "     stop_id             stop_name   stop_lat  stop_lon\n",
      "0          1      Long Island City  40.741280 -73.95639\n",
      "1          2   Hunterspoint Avenue  40.742380 -73.94679\n",
      "2          8          Penn Station  40.750580 -73.99358\n",
      "3          9              Woodside  40.745840 -73.90297\n",
      "4         10          Forest Hills  40.719570 -73.84481\n",
      "5         11           Kew Gardens  40.709640 -73.83089\n",
      "6         12     Atlantic Terminal  40.684901 -73.97768\n",
      "7         13       Nostrand Avenue  40.678380 -73.94822\n",
      "8         14         East New York  40.675800 -73.90281\n",
      "9         15               Jamaica  40.699600 -73.80853\n",
      "10        17    Mets-Willets Point  40.752390 -73.84370\n",
      "11        18  Flushing Main Street  40.757890 -73.83135\n",
      "12        19           Murray Hill  40.762700 -73.81454\n",
      "13        20              Broadway  40.761640 -73.80176\n",
      "14        21            Auburndale  40.761430 -73.78996\n",
      "15        22               Bayside  40.763140 -73.77125\n",
      "16        23            Douglaston  40.768060 -73.74941\n",
      "17        24           Little Neck  40.775040 -73.74065\n",
      "18        25            Great Neck  40.787210 -73.72610\n",
      "19        26             Manhasset  40.796720 -73.69990\n",
      "20        27              Plandome  40.810690 -73.69521\n",
      "21        28       Port Washington  40.829030 -73.68740\n",
      "22        30                Hollis  40.710170 -73.76675\n",
      "23        31        Queens Village  40.717450 -73.73646\n",
      "24        32               Belmont  40.715490 -73.72862\n",
      "25        33             Bellerose  40.722200 -73.71665\n",
      "26        34           Floral Park  40.724630 -73.70640\n",
      "27        35         Stewart Manor  40.723020 -73.68102\n",
      "28        36      Nassau Boulevard  40.722950 -73.66270\n",
      "29        37           Garden City  40.723090 -73.64036\n",
      "..       ...                   ...        ...       ...\n",
      "94       105            Long Beach  40.590170 -73.66482\n",
      "95       106      Rockville Centre  40.658310 -73.64655\n",
      "96       107               Baldwin  40.656720 -73.60716\n",
      "97       108              Freeport  40.657450 -73.58232\n",
      "98       109               Merrick  40.663790 -73.55062\n",
      "99       110              Bellmore  40.668790 -73.52886\n",
      "100      111               Wantagh  40.672980 -73.50896\n",
      "101      112               Seaford  40.675720 -73.48657\n",
      "102      113            Massapequa  40.676920 -73.46905\n",
      "103      114       Massapequa Park  40.677850 -73.45474\n",
      "104      115            Amityville  40.680240 -73.42031\n",
      "105      116              Copiague  40.681010 -73.39834\n",
      "106      117           Lindenhurst  40.688260 -73.36921\n",
      "107      118               Babylon  40.700680 -73.32405\n",
      "108      119             Bay Shore  40.724430 -73.25408\n",
      "109      120                 Islip  40.735830 -73.20932\n",
      "110      121           Great River  40.740440 -73.17019\n",
      "111      122               Oakdale  40.743420 -73.13243\n",
      "112      123              Sayville  40.740350 -73.08645\n",
      "113      124             Patchogue  40.761870 -73.01574\n",
      "114      126              Bellport  40.773730 -72.94396\n",
      "115      127        Mastic Shirley  40.798980 -72.86442\n",
      "116      129                Speonk  40.821170 -72.70427\n",
      "117      130           Westhampton  40.830300 -72.65032\n",
      "118      132          Hampton Bays  40.876600 -72.52395\n",
      "119      134           Southampton  40.894710 -72.39012\n",
      "120      135         Bridgehampton  40.938980 -72.31005\n",
      "121      136          East Hampton  40.965080 -72.19324\n",
      "122      137            Amagansett  40.980030 -72.13233\n",
      "123      138               Montauk  41.047100 -71.95388\n",
      "\n",
      "[124 rows x 4 columns]\n"
     ]
    },
    {
     "data": {
      "text/html": [
       "<div>\n",
       "<table border=\"1\" class=\"dataframe\">\n",
       "  <thead>\n",
       "    <tr style=\"text-align: right;\">\n",
       "      <th></th>\n",
       "      <th>stop_id</th>\n",
       "      <th>stop_name</th>\n",
       "      <th>stop_lat</th>\n",
       "      <th>stop_lon</th>\n",
       "    </tr>\n",
       "  </thead>\n",
       "  <tbody>\n",
       "    <tr>\n",
       "      <th>47</th>\n",
       "      <td>56</td>\n",
       "      <td>Hicksville</td>\n",
       "      <td>40.76717</td>\n",
       "      <td>-73.52853</td>\n",
       "    </tr>\n",
       "  </tbody>\n",
       "</table>\n",
       "</div>"
      ],
      "text/plain": [
       "    stop_id   stop_name  stop_lat  stop_lon\n",
       "47       56  Hicksville  40.76717 -73.52853"
      ]
     },
     "execution_count": 55,
     "metadata": {},
     "output_type": "execute_result"
    }
   ],
   "source": [
    "#stops = pd.read_csv('Long Island Rail Road/stops.txt').set_index('stop_id')\n",
    "stops = pd.read_csv('Long Island Rail Road/stops.txt')\n",
    "print stops\n",
    "stops[(stops[\"stop_name\"]==\"Hicksville\")]"
   ]
  },
  {
   "cell_type": "code",
   "execution_count": 13,
   "metadata": {
    "collapsed": false
   },
   "outputs": [
    {
     "data": {
      "text/html": [
       "<div>\n",
       "<table border=\"1\" class=\"dataframe\">\n",
       "  <thead>\n",
       "    <tr style=\"text-align: right;\">\n",
       "      <th></th>\n",
       "      <th>route_id</th>\n",
       "      <th>service_id</th>\n",
       "      <th>trip_headsign</th>\n",
       "      <th>trip_short_name</th>\n",
       "      <th>direction_id</th>\n",
       "      <th>shape_id</th>\n",
       "    </tr>\n",
       "    <tr>\n",
       "      <th>trip_id</th>\n",
       "      <th></th>\n",
       "      <th></th>\n",
       "      <th></th>\n",
       "      <th></th>\n",
       "      <th></th>\n",
       "      <th></th>\n",
       "    </tr>\n",
       "  </thead>\n",
       "  <tbody>\n",
       "    <tr>\n",
       "      <th>GO103_152</th>\n",
       "      <td>1</td>\n",
       "      <td>GO103_1565</td>\n",
       "      <td>Babylon</td>\n",
       "      <td>2</td>\n",
       "      <td>0</td>\n",
       "      <td>0</td>\n",
       "    </tr>\n",
       "    <tr>\n",
       "      <th>GO103_153</th>\n",
       "      <td>1</td>\n",
       "      <td>GO103_1565</td>\n",
       "      <td>Penn Station</td>\n",
       "      <td>3</td>\n",
       "      <td>1</td>\n",
       "      <td>1</td>\n",
       "    </tr>\n",
       "    <tr>\n",
       "      <th>GO103_154</th>\n",
       "      <td>1</td>\n",
       "      <td>GO103_1565</td>\n",
       "      <td>Babylon</td>\n",
       "      <td>4</td>\n",
       "      <td>0</td>\n",
       "      <td>0</td>\n",
       "    </tr>\n",
       "    <tr>\n",
       "      <th>GO103_155</th>\n",
       "      <td>1</td>\n",
       "      <td>GO103_1565</td>\n",
       "      <td>Penn Station</td>\n",
       "      <td>5</td>\n",
       "      <td>1</td>\n",
       "      <td>1</td>\n",
       "    </tr>\n",
       "    <tr>\n",
       "      <th>GO103_156</th>\n",
       "      <td>1</td>\n",
       "      <td>GO103_1565</td>\n",
       "      <td>Babylon</td>\n",
       "      <td>6</td>\n",
       "      <td>0</td>\n",
       "      <td>0</td>\n",
       "    </tr>\n",
       "  </tbody>\n",
       "</table>\n",
       "</div>"
      ],
      "text/plain": [
       "           route_id  service_id trip_headsign  trip_short_name  direction_id  \\\n",
       "trip_id                                                                        \n",
       "GO103_152         1  GO103_1565       Babylon                2             0   \n",
       "GO103_153         1  GO103_1565  Penn Station                3             1   \n",
       "GO103_154         1  GO103_1565       Babylon                4             0   \n",
       "GO103_155         1  GO103_1565  Penn Station                5             1   \n",
       "GO103_156         1  GO103_1565       Babylon                6             0   \n",
       "\n",
       "           shape_id  \n",
       "trip_id              \n",
       "GO103_152         0  \n",
       "GO103_153         1  \n",
       "GO103_154         0  \n",
       "GO103_155         1  \n",
       "GO103_156         0  "
      ]
     },
     "execution_count": 13,
     "metadata": {},
     "output_type": "execute_result"
    }
   ],
   "source": [
    "trips = pd.read_csv('Long Island Rail Road/trips.txt').set_index('trip_id')\n",
    "trips.head()"
   ]
  },
  {
   "cell_type": "code",
   "execution_count": 14,
   "metadata": {
    "collapsed": false
   },
   "outputs": [
    {
     "name": "stdout",
     "output_type": "stream",
     "text": [
      "     trip_id arrival_time departure_time  stop_id  stop_sequence\n",
      "0  GO103_152     00:01:00       00:01:00        8              1\n",
      "1  GO103_152     00:13:00       00:13:00        9              2\n",
      "2  GO103_152     00:18:00       00:18:00       10              3\n",
      "3  GO103_152     00:20:00       00:20:00       11              4\n",
      "4  GO103_152     00:24:00       00:26:00       15              5\n"
     ]
    }
   ],
   "source": [
    "#stop_times = pd.read_csv('Long Island Rail Road/stop_times.txt').set_index('stop_id')\n",
    "stop_times = pd.read_csv('Long Island Rail Road/stop_times.txt')\n",
    "print stop_times.head()\n"
   ]
  },
  {
   "cell_type": "code",
   "execution_count": 73,
   "metadata": {
    "collapsed": false
   },
   "outputs": [
    {
     "name": "stdout",
     "output_type": "stream",
     "text": [
      "                   A         B         C         D\n",
      "2013-01-01 -0.338167  0.577662  1.720896 -0.894143\n",
      "2013-01-02  0.436397 -0.517241  0.073210  0.132126\n",
      "2013-01-03 -0.306367 -0.997953  0.614197  0.532806\n",
      "2013-01-04 -0.057148  0.359817 -0.045676  0.403575\n",
      "2013-01-05 -0.757989 -0.763813  0.343679 -0.441170\n"
     ]
    },
    {
     "data": {
      "text/plain": [
       "A   -1.534315\n",
       "B   -0.096154\n",
       "C    0.676685\n",
       "D   -0.228361\n",
       "Name: a, dtype: float64"
      ]
     },
     "execution_count": 73,
     "metadata": {},
     "output_type": "execute_result"
    }
   ],
   "source": [
    "df1 = pd.DataFrame(np.random.randn(6,4), index=list('abcdef'), columns=list('ABCD'))\n",
    "print dfl\n",
    "df1.loc[['a'],:]\n",
    "df1.loc['a']\n",
    "\n",
    "\n"
   ]
  },
  {
   "cell_type": "code",
   "execution_count": 87,
   "metadata": {
    "collapsed": false
   },
   "outputs": [
    {
     "name": "stdout",
     "output_type": "stream",
     "text": [
      "    stop_id   stop_name  stop_lat  stop_lon\n",
      "47       56  Hicksville  40.76717 -73.52853\n",
      "23\n",
      "          trip_id arrival_time departure_time  stop_id  stop_sequence\n",
      "2929  GO103_15507     08:29:00       08:29:00        2             13\n",
      "2943  GO103_15509     08:55:00       08:55:00        2             13\n",
      "2956  GO103_15511     09:28:00       09:28:00        2             13\n",
      "3090  GO103_15558     16:18:00       16:18:00        2              1\n",
      "3116  GO103_15560     16:59:00       16:59:00        2              2\n"
     ]
    }
   ],
   "source": [
    "# GOAL: get trip_id that start at \n",
    "hpid=stops[(stops[\"stop_name\"]==\"Hicksville\")]\n",
    "print hpid\n",
    "\n",
    "#hp = stop_times[(stop_times[\"stop_id\"]==2) & (stop_times[\"stop_sequence\"].isin([1,2]))]\n",
    "#hp\n",
    "hp = stop_times[(stop_times[\"stop_id\"]==2)]\n",
    "print hp[\"trip_id\"].count()\n",
    "print hp.head()"
   ]
  },
  {
   "cell_type": "code",
   "execution_count": 85,
   "metadata": {
    "collapsed": false
   },
   "outputs": [
    {
     "name": "stdout",
     "output_type": "stream",
     "text": [
      "464\n"
     ]
    }
   ],
   "source": [
    "hv = stop_times[(stop_times[\"stop_id\"]==56)]\n",
    "print hv[\"trip_id\"].count()\n"
   ]
  },
  {
   "cell_type": "code",
   "execution_count": 88,
   "metadata": {
    "collapsed": false
   },
   "outputs": [
    {
     "data": {
      "text/html": [
       "<div>\n",
       "<table border=\"1\" class=\"dataframe\">\n",
       "  <thead>\n",
       "    <tr style=\"text-align: right;\">\n",
       "      <th></th>\n",
       "      <th>trip_id</th>\n",
       "      <th>arrival_time_x</th>\n",
       "      <th>departure_time_x</th>\n",
       "      <th>stop_id_x</th>\n",
       "      <th>stop_sequence_x</th>\n",
       "      <th>arrival_time_y</th>\n",
       "      <th>departure_time_y</th>\n",
       "      <th>stop_id_y</th>\n",
       "      <th>stop_sequence_y</th>\n",
       "    </tr>\n",
       "  </thead>\n",
       "  <tbody>\n",
       "    <tr>\n",
       "      <th>0</th>\n",
       "      <td>GO103_15613</td>\n",
       "      <td>08:43:00</td>\n",
       "      <td>08:43:00</td>\n",
       "      <td>2</td>\n",
       "      <td>12</td>\n",
       "      <td>08:00:00</td>\n",
       "      <td>08:00:00</td>\n",
       "      <td>56</td>\n",
       "      <td>9</td>\n",
       "    </tr>\n",
       "    <tr>\n",
       "      <th>1</th>\n",
       "      <td>GO103_15666</td>\n",
       "      <td>18:08:00</td>\n",
       "      <td>18:08:00</td>\n",
       "      <td>2</td>\n",
       "      <td>2</td>\n",
       "      <td>18:50:00</td>\n",
       "      <td>18:50:00</td>\n",
       "      <td>56</td>\n",
       "      <td>5</td>\n",
       "    </tr>\n",
       "    <tr>\n",
       "      <th>2</th>\n",
       "      <td>GO103_15668</td>\n",
       "      <td>18:30:00</td>\n",
       "      <td>18:30:00</td>\n",
       "      <td>2</td>\n",
       "      <td>1</td>\n",
       "      <td>19:10:00</td>\n",
       "      <td>19:10:00</td>\n",
       "      <td>56</td>\n",
       "      <td>3</td>\n",
       "    </tr>\n",
       "    <tr>\n",
       "      <th>3</th>\n",
       "      <td>GO103_151621</td>\n",
       "      <td>07:49:00</td>\n",
       "      <td>07:49:00</td>\n",
       "      <td>2</td>\n",
       "      <td>6</td>\n",
       "      <td>07:08:00</td>\n",
       "      <td>07:08:00</td>\n",
       "      <td>56</td>\n",
       "      <td>4</td>\n",
       "    </tr>\n",
       "    <tr>\n",
       "      <th>4</th>\n",
       "      <td>GO103_152068</td>\n",
       "      <td>17:29:00</td>\n",
       "      <td>17:29:00</td>\n",
       "      <td>2</td>\n",
       "      <td>1</td>\n",
       "      <td>18:08:00</td>\n",
       "      <td>18:08:00</td>\n",
       "      <td>56</td>\n",
       "      <td>4</td>\n",
       "    </tr>\n",
       "    <tr>\n",
       "      <th>5</th>\n",
       "      <td>GO103_152703</td>\n",
       "      <td>08:36:00</td>\n",
       "      <td>08:36:00</td>\n",
       "      <td>2</td>\n",
       "      <td>17</td>\n",
       "      <td>07:57:00</td>\n",
       "      <td>07:57:00</td>\n",
       "      <td>56</td>\n",
       "      <td>14</td>\n",
       "    </tr>\n",
       "    <tr>\n",
       "      <th>6</th>\n",
       "      <td>GO103_152778</td>\n",
       "      <td>16:44:00</td>\n",
       "      <td>16:44:00</td>\n",
       "      <td>2</td>\n",
       "      <td>2</td>\n",
       "      <td>17:27:00</td>\n",
       "      <td>17:27:00</td>\n",
       "      <td>56</td>\n",
       "      <td>5</td>\n",
       "    </tr>\n",
       "  </tbody>\n",
       "</table>\n",
       "</div>"
      ],
      "text/plain": [
       "        trip_id arrival_time_x departure_time_x  stop_id_x  stop_sequence_x  \\\n",
       "0   GO103_15613       08:43:00         08:43:00          2               12   \n",
       "1   GO103_15666       18:08:00         18:08:00          2                2   \n",
       "2   GO103_15668       18:30:00         18:30:00          2                1   \n",
       "3  GO103_151621       07:49:00         07:49:00          2                6   \n",
       "4  GO103_152068       17:29:00         17:29:00          2                1   \n",
       "5  GO103_152703       08:36:00         08:36:00          2               17   \n",
       "6  GO103_152778       16:44:00         16:44:00          2                2   \n",
       "\n",
       "  arrival_time_y departure_time_y  stop_id_y  stop_sequence_y  \n",
       "0       08:00:00         08:00:00         56                9  \n",
       "1       18:50:00         18:50:00         56                5  \n",
       "2       19:10:00         19:10:00         56                3  \n",
       "3       07:08:00         07:08:00         56                4  \n",
       "4       18:08:00         18:08:00         56                4  \n",
       "5       07:57:00         07:57:00         56               14  \n",
       "6       17:27:00         17:27:00         56                5  "
      ]
     },
     "execution_count": 88,
     "metadata": {},
     "output_type": "execute_result"
    }
   ],
   "source": [
    "pd.merge(hp, hv, on='trip_id')"
   ]
  },
  {
   "cell_type": "code",
   "execution_count": 16,
   "metadata": {
    "collapsed": false
   },
   "outputs": [
    {
     "ename": "KeyError",
     "evalue": "'stop_id'",
     "output_type": "error",
     "traceback": [
      "\u001b[1;31m---------------------------------------------------------------------------\u001b[0m",
      "\u001b[1;31mKeyError\u001b[0m                                  Traceback (most recent call last)",
      "\u001b[1;32m<ipython-input-16-200fefa97d51>\u001b[0m in \u001b[0;36m<module>\u001b[1;34m()\u001b[0m\n\u001b[1;32m----> 1\u001b[1;33m \u001b[0mpd\u001b[0m\u001b[1;33m.\u001b[0m\u001b[0mmerge\u001b[0m\u001b[1;33m(\u001b[0m\u001b[0mstops\u001b[0m\u001b[1;33m,\u001b[0m \u001b[0mstop_times\u001b[0m\u001b[1;33m,\u001b[0m \u001b[0mon\u001b[0m\u001b[1;33m=\u001b[0m\u001b[1;34m'stop_id'\u001b[0m\u001b[1;33m)\u001b[0m\u001b[1;33m\u001b[0m\u001b[0m\n\u001b[0m",
      "\u001b[1;32mC:\\Users\\VasanthK\\Anaconda2\\lib\\site-packages\\pandas\\tools\\merge.pyc\u001b[0m in \u001b[0;36mmerge\u001b[1;34m(left, right, how, on, left_on, right_on, left_index, right_index, sort, suffixes, copy, indicator)\u001b[0m\n\u001b[0;32m     32\u001b[0m                          \u001b[0mright_on\u001b[0m\u001b[1;33m=\u001b[0m\u001b[0mright_on\u001b[0m\u001b[1;33m,\u001b[0m \u001b[0mleft_index\u001b[0m\u001b[1;33m=\u001b[0m\u001b[0mleft_index\u001b[0m\u001b[1;33m,\u001b[0m\u001b[1;33m\u001b[0m\u001b[0m\n\u001b[0;32m     33\u001b[0m                          \u001b[0mright_index\u001b[0m\u001b[1;33m=\u001b[0m\u001b[0mright_index\u001b[0m\u001b[1;33m,\u001b[0m \u001b[0msort\u001b[0m\u001b[1;33m=\u001b[0m\u001b[0msort\u001b[0m\u001b[1;33m,\u001b[0m \u001b[0msuffixes\u001b[0m\u001b[1;33m=\u001b[0m\u001b[0msuffixes\u001b[0m\u001b[1;33m,\u001b[0m\u001b[1;33m\u001b[0m\u001b[0m\n\u001b[1;32m---> 34\u001b[1;33m                          copy=copy, indicator=indicator)\n\u001b[0m\u001b[0;32m     35\u001b[0m     \u001b[1;32mreturn\u001b[0m \u001b[0mop\u001b[0m\u001b[1;33m.\u001b[0m\u001b[0mget_result\u001b[0m\u001b[1;33m(\u001b[0m\u001b[1;33m)\u001b[0m\u001b[1;33m\u001b[0m\u001b[0m\n\u001b[0;32m     36\u001b[0m \u001b[1;32mif\u001b[0m \u001b[0m__debug__\u001b[0m\u001b[1;33m:\u001b[0m\u001b[1;33m\u001b[0m\u001b[0m\n",
      "\u001b[1;32mC:\\Users\\VasanthK\\Anaconda2\\lib\\site-packages\\pandas\\tools\\merge.pyc\u001b[0m in \u001b[0;36m__init__\u001b[1;34m(self, left, right, how, on, left_on, right_on, axis, left_index, right_index, sort, suffixes, copy, indicator)\u001b[0m\n\u001b[0;32m    188\u001b[0m         (self.left_join_keys,\n\u001b[0;32m    189\u001b[0m          \u001b[0mself\u001b[0m\u001b[1;33m.\u001b[0m\u001b[0mright_join_keys\u001b[0m\u001b[1;33m,\u001b[0m\u001b[1;33m\u001b[0m\u001b[0m\n\u001b[1;32m--> 190\u001b[1;33m          self.join_names) = self._get_merge_keys()\n\u001b[0m\u001b[0;32m    191\u001b[0m \u001b[1;33m\u001b[0m\u001b[0m\n\u001b[0;32m    192\u001b[0m     \u001b[1;32mdef\u001b[0m \u001b[0mget_result\u001b[0m\u001b[1;33m(\u001b[0m\u001b[0mself\u001b[0m\u001b[1;33m)\u001b[0m\u001b[1;33m:\u001b[0m\u001b[1;33m\u001b[0m\u001b[0m\n",
      "\u001b[1;32mC:\\Users\\VasanthK\\Anaconda2\\lib\\site-packages\\pandas\\tools\\merge.pyc\u001b[0m in \u001b[0;36m_get_merge_keys\u001b[1;34m(self)\u001b[0m\n\u001b[0;32m    410\u001b[0m                     \u001b[1;32melse\u001b[0m\u001b[1;33m:\u001b[0m\u001b[1;33m\u001b[0m\u001b[0m\n\u001b[0;32m    411\u001b[0m                         \u001b[0mright_keys\u001b[0m\u001b[1;33m.\u001b[0m\u001b[0mappend\u001b[0m\u001b[1;33m(\u001b[0m\u001b[0mrk\u001b[0m\u001b[1;33m)\u001b[0m\u001b[1;33m\u001b[0m\u001b[0m\n\u001b[1;32m--> 412\u001b[1;33m                     \u001b[0mleft_keys\u001b[0m\u001b[1;33m.\u001b[0m\u001b[0mappend\u001b[0m\u001b[1;33m(\u001b[0m\u001b[0mleft\u001b[0m\u001b[1;33m[\u001b[0m\u001b[0mlk\u001b[0m\u001b[1;33m]\u001b[0m\u001b[1;33m.\u001b[0m\u001b[0m_values\u001b[0m\u001b[1;33m)\u001b[0m\u001b[1;33m\u001b[0m\u001b[0m\n\u001b[0m\u001b[0;32m    413\u001b[0m                     \u001b[0mjoin_names\u001b[0m\u001b[1;33m.\u001b[0m\u001b[0mappend\u001b[0m\u001b[1;33m(\u001b[0m\u001b[0mlk\u001b[0m\u001b[1;33m)\u001b[0m\u001b[1;33m\u001b[0m\u001b[0m\n\u001b[0;32m    414\u001b[0m         \u001b[1;32melif\u001b[0m \u001b[0m_any\u001b[0m\u001b[1;33m(\u001b[0m\u001b[0mself\u001b[0m\u001b[1;33m.\u001b[0m\u001b[0mleft_on\u001b[0m\u001b[1;33m)\u001b[0m\u001b[1;33m:\u001b[0m\u001b[1;33m\u001b[0m\u001b[0m\n",
      "\u001b[1;32mC:\\Users\\VasanthK\\Anaconda2\\lib\\site-packages\\pandas\\core\\frame.pyc\u001b[0m in \u001b[0;36m__getitem__\u001b[1;34m(self, key)\u001b[0m\n\u001b[0;32m   1967\u001b[0m             \u001b[1;32mreturn\u001b[0m \u001b[0mself\u001b[0m\u001b[1;33m.\u001b[0m\u001b[0m_getitem_multilevel\u001b[0m\u001b[1;33m(\u001b[0m\u001b[0mkey\u001b[0m\u001b[1;33m)\u001b[0m\u001b[1;33m\u001b[0m\u001b[0m\n\u001b[0;32m   1968\u001b[0m         \u001b[1;32melse\u001b[0m\u001b[1;33m:\u001b[0m\u001b[1;33m\u001b[0m\u001b[0m\n\u001b[1;32m-> 1969\u001b[1;33m             \u001b[1;32mreturn\u001b[0m \u001b[0mself\u001b[0m\u001b[1;33m.\u001b[0m\u001b[0m_getitem_column\u001b[0m\u001b[1;33m(\u001b[0m\u001b[0mkey\u001b[0m\u001b[1;33m)\u001b[0m\u001b[1;33m\u001b[0m\u001b[0m\n\u001b[0m\u001b[0;32m   1970\u001b[0m \u001b[1;33m\u001b[0m\u001b[0m\n\u001b[0;32m   1971\u001b[0m     \u001b[1;32mdef\u001b[0m \u001b[0m_getitem_column\u001b[0m\u001b[1;33m(\u001b[0m\u001b[0mself\u001b[0m\u001b[1;33m,\u001b[0m \u001b[0mkey\u001b[0m\u001b[1;33m)\u001b[0m\u001b[1;33m:\u001b[0m\u001b[1;33m\u001b[0m\u001b[0m\n",
      "\u001b[1;32mC:\\Users\\VasanthK\\Anaconda2\\lib\\site-packages\\pandas\\core\\frame.pyc\u001b[0m in \u001b[0;36m_getitem_column\u001b[1;34m(self, key)\u001b[0m\n\u001b[0;32m   1974\u001b[0m         \u001b[1;31m# get column\u001b[0m\u001b[1;33m\u001b[0m\u001b[1;33m\u001b[0m\u001b[0m\n\u001b[0;32m   1975\u001b[0m         \u001b[1;32mif\u001b[0m \u001b[0mself\u001b[0m\u001b[1;33m.\u001b[0m\u001b[0mcolumns\u001b[0m\u001b[1;33m.\u001b[0m\u001b[0mis_unique\u001b[0m\u001b[1;33m:\u001b[0m\u001b[1;33m\u001b[0m\u001b[0m\n\u001b[1;32m-> 1976\u001b[1;33m             \u001b[1;32mreturn\u001b[0m \u001b[0mself\u001b[0m\u001b[1;33m.\u001b[0m\u001b[0m_get_item_cache\u001b[0m\u001b[1;33m(\u001b[0m\u001b[0mkey\u001b[0m\u001b[1;33m)\u001b[0m\u001b[1;33m\u001b[0m\u001b[0m\n\u001b[0m\u001b[0;32m   1977\u001b[0m \u001b[1;33m\u001b[0m\u001b[0m\n\u001b[0;32m   1978\u001b[0m         \u001b[1;31m# duplicate columns & possible reduce dimensionality\u001b[0m\u001b[1;33m\u001b[0m\u001b[1;33m\u001b[0m\u001b[0m\n",
      "\u001b[1;32mC:\\Users\\VasanthK\\Anaconda2\\lib\\site-packages\\pandas\\core\\generic.pyc\u001b[0m in \u001b[0;36m_get_item_cache\u001b[1;34m(self, item)\u001b[0m\n\u001b[0;32m   1089\u001b[0m         \u001b[0mres\u001b[0m \u001b[1;33m=\u001b[0m \u001b[0mcache\u001b[0m\u001b[1;33m.\u001b[0m\u001b[0mget\u001b[0m\u001b[1;33m(\u001b[0m\u001b[0mitem\u001b[0m\u001b[1;33m)\u001b[0m\u001b[1;33m\u001b[0m\u001b[0m\n\u001b[0;32m   1090\u001b[0m         \u001b[1;32mif\u001b[0m \u001b[0mres\u001b[0m \u001b[1;32mis\u001b[0m \u001b[0mNone\u001b[0m\u001b[1;33m:\u001b[0m\u001b[1;33m\u001b[0m\u001b[0m\n\u001b[1;32m-> 1091\u001b[1;33m             \u001b[0mvalues\u001b[0m \u001b[1;33m=\u001b[0m \u001b[0mself\u001b[0m\u001b[1;33m.\u001b[0m\u001b[0m_data\u001b[0m\u001b[1;33m.\u001b[0m\u001b[0mget\u001b[0m\u001b[1;33m(\u001b[0m\u001b[0mitem\u001b[0m\u001b[1;33m)\u001b[0m\u001b[1;33m\u001b[0m\u001b[0m\n\u001b[0m\u001b[0;32m   1092\u001b[0m             \u001b[0mres\u001b[0m \u001b[1;33m=\u001b[0m \u001b[0mself\u001b[0m\u001b[1;33m.\u001b[0m\u001b[0m_box_item_values\u001b[0m\u001b[1;33m(\u001b[0m\u001b[0mitem\u001b[0m\u001b[1;33m,\u001b[0m \u001b[0mvalues\u001b[0m\u001b[1;33m)\u001b[0m\u001b[1;33m\u001b[0m\u001b[0m\n\u001b[0;32m   1093\u001b[0m             \u001b[0mcache\u001b[0m\u001b[1;33m[\u001b[0m\u001b[0mitem\u001b[0m\u001b[1;33m]\u001b[0m \u001b[1;33m=\u001b[0m \u001b[0mres\u001b[0m\u001b[1;33m\u001b[0m\u001b[0m\n",
      "\u001b[1;32mC:\\Users\\VasanthK\\Anaconda2\\lib\\site-packages\\pandas\\core\\internals.pyc\u001b[0m in \u001b[0;36mget\u001b[1;34m(self, item, fastpath)\u001b[0m\n\u001b[0;32m   3209\u001b[0m \u001b[1;33m\u001b[0m\u001b[0m\n\u001b[0;32m   3210\u001b[0m             \u001b[1;32mif\u001b[0m \u001b[1;32mnot\u001b[0m \u001b[0misnull\u001b[0m\u001b[1;33m(\u001b[0m\u001b[0mitem\u001b[0m\u001b[1;33m)\u001b[0m\u001b[1;33m:\u001b[0m\u001b[1;33m\u001b[0m\u001b[0m\n\u001b[1;32m-> 3211\u001b[1;33m                 \u001b[0mloc\u001b[0m \u001b[1;33m=\u001b[0m \u001b[0mself\u001b[0m\u001b[1;33m.\u001b[0m\u001b[0mitems\u001b[0m\u001b[1;33m.\u001b[0m\u001b[0mget_loc\u001b[0m\u001b[1;33m(\u001b[0m\u001b[0mitem\u001b[0m\u001b[1;33m)\u001b[0m\u001b[1;33m\u001b[0m\u001b[0m\n\u001b[0m\u001b[0;32m   3212\u001b[0m             \u001b[1;32melse\u001b[0m\u001b[1;33m:\u001b[0m\u001b[1;33m\u001b[0m\u001b[0m\n\u001b[0;32m   3213\u001b[0m                 \u001b[0mindexer\u001b[0m \u001b[1;33m=\u001b[0m \u001b[0mnp\u001b[0m\u001b[1;33m.\u001b[0m\u001b[0marange\u001b[0m\u001b[1;33m(\u001b[0m\u001b[0mlen\u001b[0m\u001b[1;33m(\u001b[0m\u001b[0mself\u001b[0m\u001b[1;33m.\u001b[0m\u001b[0mitems\u001b[0m\u001b[1;33m)\u001b[0m\u001b[1;33m)\u001b[0m\u001b[1;33m[\u001b[0m\u001b[0misnull\u001b[0m\u001b[1;33m(\u001b[0m\u001b[0mself\u001b[0m\u001b[1;33m.\u001b[0m\u001b[0mitems\u001b[0m\u001b[1;33m)\u001b[0m\u001b[1;33m]\u001b[0m\u001b[1;33m\u001b[0m\u001b[0m\n",
      "\u001b[1;32mC:\\Users\\VasanthK\\Anaconda2\\lib\\site-packages\\pandas\\core\\index.pyc\u001b[0m in \u001b[0;36mget_loc\u001b[1;34m(self, key, method, tolerance)\u001b[0m\n\u001b[0;32m   1757\u001b[0m                                  'backfill or nearest lookups')\n\u001b[0;32m   1758\u001b[0m             \u001b[0mkey\u001b[0m \u001b[1;33m=\u001b[0m \u001b[0m_values_from_object\u001b[0m\u001b[1;33m(\u001b[0m\u001b[0mkey\u001b[0m\u001b[1;33m)\u001b[0m\u001b[1;33m\u001b[0m\u001b[0m\n\u001b[1;32m-> 1759\u001b[1;33m             \u001b[1;32mreturn\u001b[0m \u001b[0mself\u001b[0m\u001b[1;33m.\u001b[0m\u001b[0m_engine\u001b[0m\u001b[1;33m.\u001b[0m\u001b[0mget_loc\u001b[0m\u001b[1;33m(\u001b[0m\u001b[0mkey\u001b[0m\u001b[1;33m)\u001b[0m\u001b[1;33m\u001b[0m\u001b[0m\n\u001b[0m\u001b[0;32m   1760\u001b[0m \u001b[1;33m\u001b[0m\u001b[0m\n\u001b[0;32m   1761\u001b[0m         indexer = self.get_indexer([key], method=method,\n",
      "\u001b[1;32mpandas\\index.pyx\u001b[0m in \u001b[0;36mpandas.index.IndexEngine.get_loc (pandas\\index.c:3979)\u001b[1;34m()\u001b[0m\n",
      "\u001b[1;32mpandas\\index.pyx\u001b[0m in \u001b[0;36mpandas.index.IndexEngine.get_loc (pandas\\index.c:3843)\u001b[1;34m()\u001b[0m\n",
      "\u001b[1;32mpandas\\hashtable.pyx\u001b[0m in \u001b[0;36mpandas.hashtable.PyObjectHashTable.get_item (pandas\\hashtable.c:12265)\u001b[1;34m()\u001b[0m\n",
      "\u001b[1;32mpandas\\hashtable.pyx\u001b[0m in \u001b[0;36mpandas.hashtable.PyObjectHashTable.get_item (pandas\\hashtable.c:12216)\u001b[1;34m()\u001b[0m\n",
      "\u001b[1;31mKeyError\u001b[0m: 'stop_id'"
     ]
    }
   ],
   "source": [
    "pd.merge(stops, stop_times, on='stop_id')"
   ]
  },
  {
   "cell_type": "code",
   "execution_count": null,
   "metadata": {
    "collapsed": true
   },
   "outputs": [],
   "source": []
  },
  {
   "cell_type": "code",
   "execution_count": null,
   "metadata": {
    "collapsed": true
   },
   "outputs": [],
   "source": []
  }
 ],
 "metadata": {
  "kernelspec": {
   "display_name": "Python 2",
   "language": "python",
   "name": "python2"
  },
  "language_info": {
   "codemirror_mode": {
    "name": "ipython",
    "version": 2
   },
   "file_extension": ".py",
   "mimetype": "text/x-python",
   "name": "python",
   "nbconvert_exporter": "python",
   "pygments_lexer": "ipython2",
   "version": "2.7.11"
  }
 },
 "nbformat": 4,
 "nbformat_minor": 0
}
